{
 "cells": [
  {
   "cell_type": "code",
   "execution_count": 12,
   "metadata": {},
   "outputs": [],
   "source": [
    "import sys\n",
    "from loglizer.models import InvariantsMiner\n",
    "from loglizer import dataloader, preprocessing\n"
   ]
  },
  {
   "cell_type": "code",
   "execution_count": 13,
   "metadata": {},
   "outputs": [],
   "source": [
    "struct_log = 'C:/Users/naren/Industry Project/Log anomaly detection/loglizer/data/HDFS/HDFS_100k.log_structured.csv'\n",
    "label_file = \"C:/Users/naren/Industry Project/Log anomaly detection/loglizer/data/HDFS/anomaly_label.csv\"\n",
    "epsilon = 0.5 # threshold for estimating invariant space"
   ]
  },
  {
   "cell_type": "code",
   "execution_count": 16,
   "metadata": {},
   "outputs": [
    {
     "name": "stdout",
     "output_type": "stream",
     "text": [
      "====== Input data summary ======\n",
      "Loading C:/Users/naren/Industry Project/Log anomaly detection/loglizer/data/HDFS/HDFS_100k.log_structured.csv\n",
      "118 195\n",
      "Total: 7940 instances, 313 anomaly, 7627 normal\n",
      "Train: 3970 instances, 118 anomaly, 3852 normal\n",
      "Test: 3970 instances, 195 anomaly, 3775 normal\n",
      "\n",
      "====== Transformed train data summary ======\n",
      "Train data shape: 3970-by-14\n",
      "\n",
      "====== Transformed test data summary ======\n",
      "Test data shape: 3970-by-14\n",
      "\n",
      "====== Model summary ======\n",
      "Invariant space dimension: 11\n",
      "Mined 10 invariants: {(0, 1): [1, -3], (0, 2): [1, -1], (0, 3): [1, -1], (0, 4): [1, -1], (6, 12): [1, -10], (6, 13): [1, -10], (7, 8): [1, -58], (7, 9): [1, -101], (7, 10): [1, -101], (7, 11): [1, -101]}\n",
      "\n",
      "Train validation:\n",
      "====== Evaluation summary ======\n",
      "Precision: 0.947, recall: 0.305, F1-measure: 0.462\n",
      "\n",
      "Test validation:\n",
      "====== Evaluation summary ======\n",
      "Precision: 0.973, recall: 0.559, F1-measure: 0.710\n",
      "\n"
     ]
    }
   ],
   "source": [
    "(x_train, y_train), (x_test, y_test) = dataloader.load_HDFS(struct_log,\n",
    "                                                            label_file=label_file,\n",
    "                                                            window='session', \n",
    "                                                            train_ratio=0.5,\n",
    "                                                            split_type='sequential')\n",
    "feature_extractor = preprocessing.FeatureExtractor()\n",
    "x_train = feature_extractor.fit_transform(x_train)\n",
    "x_test = feature_extractor.transform(x_test)\n",
    "\n",
    "model = InvariantsMiner(epsilon=epsilon)\n",
    "model.fit(x_train)\n",
    "\n",
    "print('Train validation:')\n",
    "precision, recall, f1 = model.evaluate(x_train, y_train)\n",
    "\n",
    "print('Test validation:')\n",
    "precision, recall, f1 = model.evaluate(x_test, y_test)\n"
   ]
  },
  {
   "cell_type": "code",
   "execution_count": 23,
   "metadata": {},
   "outputs": [
    {
     "name": "stdout",
     "output_type": "stream",
     "text": [
      "====== Input data summary ======\n",
      "Loading C:/Users/naren/Industry Project/Log anomaly detection/loglizer/data/HDFS/HDFS_100k.log_structured.csv\n",
      "118 195\n",
      "Total: 7940 instances, 313 anomaly, 7627 normal\n",
      "Train: 3970 instances, 118 anomaly, 3852 normal\n",
      "Test: 3970 instances, 195 anomaly, 3775 normal\n",
      "\n"
     ]
    }
   ],
   "source": [
    "train, test = dataloader.load_HDFS(struct_log,\n",
    "                                                            label_file=label_file,\n",
    "                                                            window='session', \n",
    "                                                            train_ratio=0.5,\n",
    "                                                            split_type='sequential')"
   ]
  },
  {
   "cell_type": "code",
   "execution_count": 30,
   "metadata": {},
   "outputs": [
    {
     "data": {
      "text/plain": [
       "(array([list(['E22', 'E5', 'E5', 'E5', 'E26', 'E11', 'E9', 'E26', 'E11', 'E9', 'E11', 'E9', 'E26']),\n",
       "        list(['E5', 'E22', 'E5', 'E5', 'E26', 'E26', 'E11', 'E9', 'E11', 'E9', 'E11', 'E9', 'E26']),\n",
       "        list(['E5', 'E22', 'E5', 'E5', 'E11', 'E9', 'E11', 'E9', 'E26', 'E11', 'E9', 'E26', 'E26']),\n",
       "        ...,\n",
       "        list(['E5', 'E5', 'E22', 'E5', 'E11', 'E9', 'E11', 'E9', 'E26', 'E11', 'E9', 'E26', 'E26', 'E2', 'E2', 'E2']),\n",
       "        list(['E5', 'E5', 'E22', 'E5', 'E11', 'E9', 'E11', 'E9', 'E11', 'E9', 'E26', 'E26', 'E26']),\n",
       "        list(['E5', 'E5', 'E22', 'E5', 'E11', 'E9', 'E11', 'E9', 'E11', 'E9', 'E26', 'E26', 'E26', 'E2'])],\n",
       "       dtype=object),\n",
       " None)"
      ]
     },
     "execution_count": 30,
     "metadata": {},
     "output_type": "execute_result"
    }
   ],
   "source": [
    "train"
   ]
  },
  {
   "cell_type": "code",
   "execution_count": 26,
   "metadata": {},
   "outputs": [
    {
     "name": "stdout",
     "output_type": "stream",
     "text": [
      "====== Input data summary ======\n",
      "Loading C:/Users/naren/Industry Project/Log anomaly detection/loglizer/data/HDFS/HDFS_100k.log_structured.csv\n",
      "Total: 7940 instances, train: 3970 instances, test: 3970 instances\n"
     ]
    }
   ],
   "source": [
    "train, test, well = dataloader.load_HDFS(struct_log,\n",
    "                                                    window='session', \n",
    "                                                    train_ratio=0.5,\n",
    "                                                    split_type='sequential')"
   ]
  },
  {
   "cell_type": "code",
   "execution_count": 28,
   "metadata": {},
   "outputs": [
    {
     "data": {
      "text/html": [
       "<div>\n",
       "<style scoped>\n",
       "    .dataframe tbody tr th:only-of-type {\n",
       "        vertical-align: middle;\n",
       "    }\n",
       "\n",
       "    .dataframe tbody tr th {\n",
       "        vertical-align: top;\n",
       "    }\n",
       "\n",
       "    .dataframe thead th {\n",
       "        text-align: right;\n",
       "    }\n",
       "</style>\n",
       "<table border=\"1\" class=\"dataframe\">\n",
       "  <thead>\n",
       "    <tr style=\"text-align: right;\">\n",
       "      <th></th>\n",
       "      <th>BlockId</th>\n",
       "      <th>EventSequence</th>\n",
       "    </tr>\n",
       "  </thead>\n",
       "  <tbody>\n",
       "    <tr>\n",
       "      <th>0</th>\n",
       "      <td>blk_-1608999687919862906</td>\n",
       "      <td>[E5, E22, E5, E5, E11, E11, E9, E9, E11, E9, E...</td>\n",
       "    </tr>\n",
       "    <tr>\n",
       "      <th>1</th>\n",
       "      <td>blk_7503483334202473044</td>\n",
       "      <td>[E5, E5, E22, E5, E11, E9, E11, E9, E11, E9, E...</td>\n",
       "    </tr>\n",
       "    <tr>\n",
       "      <th>2</th>\n",
       "      <td>blk_-3544583377289625738</td>\n",
       "      <td>[E5, E22, E5, E5, E11, E9, E11, E9, E11, E9, E...</td>\n",
       "    </tr>\n",
       "    <tr>\n",
       "      <th>3</th>\n",
       "      <td>blk_-9073992586687739851</td>\n",
       "      <td>[E5, E22, E5, E5, E11, E9, E11, E9, E11, E9, E...</td>\n",
       "    </tr>\n",
       "    <tr>\n",
       "      <th>4</th>\n",
       "      <td>blk_7854771516489510256</td>\n",
       "      <td>[E5, E5, E22, E5, E11, E9, E11, E9, E11, E9, E...</td>\n",
       "    </tr>\n",
       "    <tr>\n",
       "      <th>...</th>\n",
       "      <td>...</td>\n",
       "      <td>...</td>\n",
       "    </tr>\n",
       "    <tr>\n",
       "      <th>7935</th>\n",
       "      <td>blk_-1445970677921829671</td>\n",
       "      <td>[E22, E5, E5, E5, E11, E9, E11, E9, E26, E26, ...</td>\n",
       "    </tr>\n",
       "    <tr>\n",
       "      <th>7936</th>\n",
       "      <td>blk_-5943236831140622436</td>\n",
       "      <td>[E22, E5, E5, E5, E26, E26, E26, E11, E9, E11,...</td>\n",
       "    </tr>\n",
       "    <tr>\n",
       "      <th>7937</th>\n",
       "      <td>blk_-5039164935117450945</td>\n",
       "      <td>[E22, E5, E5, E5, E26, E26, E11, E9, E11, E9, ...</td>\n",
       "    </tr>\n",
       "    <tr>\n",
       "      <th>7938</th>\n",
       "      <td>blk_7379833155074044619</td>\n",
       "      <td>[E22, E5, E5, E5, E26, E26, E11, E9, E11, E9, ...</td>\n",
       "    </tr>\n",
       "    <tr>\n",
       "      <th>7939</th>\n",
       "      <td>blk_8909107483987085802</td>\n",
       "      <td>[E22, E5, E5, E5, E26, E26, E11, E9, E11, E9, ...</td>\n",
       "    </tr>\n",
       "  </tbody>\n",
       "</table>\n",
       "<p>7940 rows × 2 columns</p>\n",
       "</div>"
      ],
      "text/plain": [
       "                       BlockId  \\\n",
       "0     blk_-1608999687919862906   \n",
       "1      blk_7503483334202473044   \n",
       "2     blk_-3544583377289625738   \n",
       "3     blk_-9073992586687739851   \n",
       "4      blk_7854771516489510256   \n",
       "...                        ...   \n",
       "7935  blk_-1445970677921829671   \n",
       "7936  blk_-5943236831140622436   \n",
       "7937  blk_-5039164935117450945   \n",
       "7938   blk_7379833155074044619   \n",
       "7939   blk_8909107483987085802   \n",
       "\n",
       "                                          EventSequence  \n",
       "0     [E5, E22, E5, E5, E11, E11, E9, E9, E11, E9, E...  \n",
       "1     [E5, E5, E22, E5, E11, E9, E11, E9, E11, E9, E...  \n",
       "2     [E5, E22, E5, E5, E11, E9, E11, E9, E11, E9, E...  \n",
       "3     [E5, E22, E5, E5, E11, E9, E11, E9, E11, E9, E...  \n",
       "4     [E5, E5, E22, E5, E11, E9, E11, E9, E11, E9, E...  \n",
       "...                                                 ...  \n",
       "7935  [E22, E5, E5, E5, E11, E9, E11, E9, E26, E26, ...  \n",
       "7936  [E22, E5, E5, E5, E26, E26, E26, E11, E9, E11,...  \n",
       "7937  [E22, E5, E5, E5, E26, E26, E11, E9, E11, E9, ...  \n",
       "7938  [E22, E5, E5, E5, E26, E26, E11, E9, E11, E9, ...  \n",
       "7939  [E22, E5, E5, E5, E26, E26, E11, E9, E11, E9, ...  \n",
       "\n",
       "[7940 rows x 2 columns]"
      ]
     },
     "execution_count": 28,
     "metadata": {},
     "output_type": "execute_result"
    }
   ],
   "source": [
    "well"
   ]
  }
 ],
 "metadata": {
  "kernelspec": {
   "display_name": "base",
   "language": "python",
   "name": "python3"
  },
  "language_info": {
   "codemirror_mode": {
    "name": "ipython",
    "version": 3
   },
   "file_extension": ".py",
   "mimetype": "text/x-python",
   "name": "python",
   "nbconvert_exporter": "python",
   "pygments_lexer": "ipython3",
   "version": "3.11.4"
  }
 },
 "nbformat": 4,
 "nbformat_minor": 2
}
